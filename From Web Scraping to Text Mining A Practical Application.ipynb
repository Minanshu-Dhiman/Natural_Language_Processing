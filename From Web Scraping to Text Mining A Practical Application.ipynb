{
 "cells": [
  {
   "cell_type": "code",
   "execution_count": 1,
   "id": "2baff645-c332-4080-ba49-2f3513b0a83f",
   "metadata": {},
   "outputs": [],
   "source": [
    "import spacy\n",
    "import requests\n",
    "from bs4 import BeautifulSoup"
   ]
  },
  {
   "cell_type": "markdown",
   "id": "9deb4e9a",
   "metadata": {},
   "source": [
    "Following is an article on the Drawbacks of increase of tourism in Himachal Pradesh, that I have extracted to use in this assignment."
   ]
  },
  {
   "cell_type": "code",
   "execution_count": 2,
   "id": "176248a2",
   "metadata": {},
   "outputs": [],
   "source": [
    "headers = {\"User-Agent\": \"Mozilla/5.0 (X11; Linux x86_64) AppleWebKit/537.36(KHTML, like Gecko) Chrome/88.0.4324.96 Safari/537.36\"}\n",
    "url1 = \"https://www.himachalheadlines.com/news/overcrowding-tourism-in-himachal-and-its-impact/#:~:text=Degradation%20of%20Environmental%20%3A%20The%20influx%20of%20tourists,footfall%2C%20leading%20to%20soil%20erosion%20and%20habitat%20disturbance.\"\n",
    "a = requests.get(url1, headers = headers)\n",
    "html_doc1 = a.content\n",
    "soup1 = BeautifulSoup(html_doc1, 'html.parser')\n",
    "elements = soup1.find(\"div\", class_ = \"cm-entry-summary\")\n",
    "doc1 =\"\"\n",
    "for element in elements:\n",
    "    doc1 += element.get_text()\n",
    "doc1"
   ]
  },
  {
   "cell_type": "markdown",
   "id": "8f59cb63",
   "metadata": {},
   "source": [
    "Following is an article on the rise of Unemoloyment in India, that I have extracted to use in this assignment."
   ]
  },
  {
   "cell_type": "code",
   "execution_count": 3,
   "id": "86f5baf0",
   "metadata": {},
   "outputs": [],
   "source": [
    "url2 = \"https://www.independent.co.uk/asia/india/modi-unemployment-rate-india-2024-budget-job-losses-b2581220.html\"\n",
    "b = requests.get(url2, headers = headers)\n",
    "html_doc2 = b.content\n",
    "soup2 = BeautifulSoup(html_doc2, 'html.parser')\n",
    "elements = soup2.find(\"div\", class_ = \"sc-jbiisr-0 izpdPv sc-jbiisr-2 hUjkAJ\")\n",
    "p_tags =  elements.find_all(\"p\")\n",
    "doc2 =\"\"\n",
    "for i in range(1, 20):\n",
    "    doc2 += p_tags[i].get_text()\n",
    "doc2"
   ]
  },
  {
   "cell_type": "markdown",
   "id": "59a80e1c",
   "metadata": {},
   "source": [
    "Following is an article on that establishes relation between Modi ji meetind Head fo states of different countries and Asani getting big contracts in those countries, that I have extracted to use in this assignment."
   ]
  },
  {
   "cell_type": "code",
   "execution_count": 18,
   "id": "4cdddc12-652a-4500-bac1-bb2eac0c83df",
   "metadata": {
    "scrolled": true
   },
   "outputs": [
    {
     "data": {
      "text/plain": [
       "'The Kenyan high court last week suspended a proposed deal that would have given the Adani Group rights to run the Nairobi airport for 30 years – its first airport venture outside India. The court order is a setback to the group’s plans to expand its global footprint.Notably, this expansion has closely followed in the footsteps of Prime Minister Narendra Modi’s diplomatic engagements. Most Adani projects outside India, whether in the neighbourhood or further afield, were announced within months of Modi visiting the country or meeting its head of state,\\xa0Scroll’s\\xa0analysis shows.The Kenyan prime minister, for instance, visited New Delhi in December 2023. Three months later, in March, the Adani Group submitted a proposal to upgrade and expand the Nairobi airport. In June, the Kenyan authorities changed the national aviation policy and approved an airport investment plan.After whistleblower documents brought this to light, the Kenyan Human Rights Commission and the bar association filed\\xa0a legal challenge, arguing that “leasing a strategic and profitable national airport to a private entity is irrational”, more so because it was being done in secrecy, without any competitive bidding. The High Court\\xa0temporarily halted\\xa0the proposed deal on September 9.As questions were raised in the\\xa0Kenyan Parliament\\xa0and criticism mounted on social media,\\xa0a government advisor\\xa0said no contract had been awarded to Adani for the airport but the group has been granted concessions worth $1.3 billion to construct high-voltage power lines in Kenya.The furore in Kenya comes at a time when the interim government in Bangladesh has said it was\\xa0reviewing\\xa0a power purchase agreement with Adani, which is widely seen as being tilted in favour of the conglomerate. This deal, too, followed in the wake of Modi’s diplomacy.On his first visit to Dhaka as prime minister, in June 2015, Modi said India could be a major partner in helping\\xa0Bangladesh\\xa0fulfil its electricity needs. Two months later, Adani signed a Memorandum of Understanding with Bangladesh for the export of electricity from Jharkhand. The implementation agreement followed two years later, during Bangladesh Prime Minister Sheikh Hasina’s\\xa0New Delhi visit in April 2017.For years, the Opposition in Bangladesh alleged the agreement was signed under pressure from the Modi government. Now, with a regime change in Dhaka, the deal threatens to come undone.A spokesperson of the Adani Group, however, said in response to\\xa0Scroll’s queries: “We have no indication that the Bangladesh government is reviewing our PPA. In the spirit of partnership, we continue to supply power despite the substantial outstanding payments.”The Adani spokesperson did not comment on the developments in Kenya, or the allegations by the Opposition in India that diplomacy by the Modi government was serving Adani’s business interests abroad.Until 2014, when Modi became prime minister, the Adani Group’s projects outside India were limited to coal mining operations in Indonesia and Australia. Now, they span a wide range of infrastructure sectors across Asia and Africa.Bangladesh is not the only South Asian country where controversies have dogged Adani projects.In\\xa0Sri Lanka, an official of the electricity board, deposing before a parliamentary committee, said that President Gotabaya Rajapaksa had told him in November 2021 that Modi was “pressuring him” to hand over\\xa0a\\xa0wind energy project\\xa0to the Adani Group. This was days after\\xa0Rajapaksa met Modi\\xa0on the sidelines of the climate change conference in Glasgow. After the revelation caused an uproar in Sri Lanka, the official retracted his remarks and resigned from his position.Earlier, in February 2020, Prime Minister Mahinda Rajapaksa had met Modi in Delhi and discussed\\xa0“economically important matters”. Months later, media reports indicated that the Adani Group was a favourite to operate the East\\xa0Container Terminal\\xa0at the Colombo port as part of an agreement between India, Sri Lanka and Japan. After protests from unions and the Buddhist clergy, Sri Lanka reneged the agreement, but the Adani Group bagged the rights to operate\\xa0another terminal\\xa0at the port.This year, the Adani Group has been in talks with Nepalese authorities to take over international airports in Nepal. Two new airports in Pokhara and Bhairahawa, built using loans from China, have so far remained economically unviable since India has not opened up\\xa0high-altitude air routes\\xa0for jet planes. Nepal’s prime minister raised the issue with Modi in a meeting in\\xa0June 2023, following which officials of the Adani Group\\xa0visited Kathmandu\\xa0to hold discussions with Nepalese civil aviation authorities, according to the country’s finance minister.It isn’t just South Asia where Modi’s diplomacy has dovetailed with Adani’s expansion.In March 2017, Modi hosted\\xa0Malaysia’s Prime Minister Najib Tun Razak in New Delhi where the two discussed how to boost economic linkages between the two countries and the business prospects of Indian firms. A month later, the Adani Group signed an MoU with a Malaysian infrastructure conglomerate to develop a\\xa0mega container port project\\xa0on Carey Island.In June 2018, Modi travelled to\\xa0Singapore\\xa0where he met Prime Minister Lee Hsien Loong. Later that month, Singapore’s state-owned investment firm Temasek\\xa0invested Rs 1,000 crore\\xa0in Adani ports.Modi hosted the\\xa0Tanzania’s President Samiha Suluhu in Delhi in October 2023. Eight months later, in May 2024, the Adani Group bagged a 30-year concession agreement to operate a\\xa0container terminal\\xa0at the Dar es Salaam port. It also entered into a\\xa0joint venture with Abu Dhabi’s AD Ports group to acquire 95% stake in the company providing terminal services.More recently,\\xa0Vietnam’s Prime Minister Pham Minh Chinh came to Delhi in July-August 2024. The same day he met Modi, he also met Gautam Adani, announcing that the Adani Group was considering investing in two\\xa0airports\\xa0in Vietnam, close on the heels of its plans to build a\\xa0seaport\\xa0being approved.The Adani Group has built significant business ties with Israel after Modi became the first Indian prime minister to visit\\xa0Israel\\xa0in July 2017. He hosted Israel’s Prime Minister Benjamin Netanyahu in Delhi in January 2018. In December that year, the Adani Group, in a joint venture with Israeli firm Elbit Systems, inaugurated a facility in Telangana to manufacture\\xa0aerial military drones. In 2022, the Adani Group went on to acquire\\xa0Haifa port\\xa0in Israel.Billionaire Gautam Adani, the chairman of the Adani Group, is known for his proximity to the Indian prime minister. Both men are from the state of Gujarat. Since 2014 when Modi became prime minister, the Adani Group has aggressively\\xa0expanded and diversified\\xa0its business, becoming the largest private owner of airports, seaports, coal mines, power stations, and gas stations in India.This has invited accusations of crony capitalism, most notably from the Congress party, which sees the conglomerate’s global expansion in similar light.\\xa0Speaking in Parliament in February 2023, Congress leader Rahul Gandhi said, “This is not India’s foreign policy. This is Adani ji’s foreign policy.”Many observers view Adani’s global expansion through the geopolitical lens of India wanting to counter China’s growing influence in Asia and Africa, largely manifested through the infrastructure-focused Belt and Road Initiative. “Adani’s infrastructure empire fits with the Indian government’s economic agenda,”\\xa0wrote\\xa0Albert Vidal, an analyst at the International Institute for Strategic Studies, a think-tank headquartered in London.But others have questioned the wisdom of the government putting its weight behind just one private player. India’s diplomacy “has to avoid tying itself, and by extension the national interest, in less than opaque ways to the fortunes of a single private entity”, journalist Nirupama Subramanian\\xa0wrote\\xa0in 2022.These questions have become more acute after the Adani Group made global headlines last year for allegations of corporate fraud and money laundering levelled by American short-seller Hindenburg Research. Recently, Swiss authorities froze $311 million held by a Taiwanese resident suspected to have laundered money on behalf of the Adani Group – allegations that the group has denied.'"
      ]
     },
     "execution_count": 18,
     "metadata": {},
     "output_type": "execute_result"
    }
   ],
   "source": [
    "url3 = \"https://southasiajournal.net/modi-leads-adani-follows-is-indias-diplomacy-in-lockstep-with-a-private-groups-global-expansion/\"\n",
    "c = requests.get(url3, headers = headers)\n",
    "html_doc3 = c.content\n",
    "soup3 = BeautifulSoup(html_doc3, 'html.parser')\n",
    "elements = soup3.find(\"div\", class_ = \"td-post-content tagdiv-type\")\n",
    "p_tags =  elements.find_all(\"p\")\n",
    "doc3 =\"\"\n",
    "for i in range(2, 28):\n",
    "    doc3 += p_tags[i].get_text()\n",
    "doc3\n"
   ]
  },
  {
   "cell_type": "markdown",
   "id": "51ff0c67",
   "metadata": {},
   "source": [
    "I have Merged all the above documents into a corpus."
   ]
  },
  {
   "cell_type": "code",
   "execution_count": 5,
   "id": "d0f8344d-1ca3-421e-8e84-e1614d5e1087",
   "metadata": {},
   "outputs": [
    {
     "name": "stdout",
     "output_type": "stream",
     "text": [
      "['Himachal Pradesh, with its pristine landscapes, snow-capped peaks, and serene valleys, has long been a favorite destination for travelers seeking respite from the hustle and bustle of city life. However, the very popularity that draws tourists to this Himalayan state is now posing significant challenges. Let’s delve into the impact of overcrowding on tourism in Himachal Pradesh and explore the need for sustainable measures to preserve its natural beauty and cultural heritage.Crowded MountainsMany of Himachal Pradesh’s cities and towns, such as Shimla, Manali, Kullu, and Dharamsala, are hailed among the best hill stations in India. These picturesque locales attract tourists year-round, leading to bustling streets, crowded markets, and overburdened infrastructure. The serene charm that once defined these places is now often overshadowed by the sheer number of visitors.Challenges Faced by Overcrowded Tourist SpotsDegradation of Environmental : The influx of tourists puts immense pressure on the fragile ecosystems of Himachal Pradesh. Littering, deforestation, and pollution threaten the region’s natural beauty. Popular trekking trails and camping sites witness heavy footfall, leading to soil erosion and habitat disturbance.Congestion of Traffic : Narrow mountain roads struggle to accommodate the increasing number of vehicles. Traffic jams not only inconvenience travelers but also harm the environment due to vehicular emissions.Strain on Resources: Water scarcity, waste management, and energy consumption become critical issues in crowded tourist spots. Local communities often bear the brunt of resource depletion.Erosion of Culture: As tourists flood these areas, the local culture and traditions face dilution. Commercialization and homogenization replace authentic experiences.Sustainable SolutionsManaging Visitors: Implementing entry permits or quotas can regulate the number of tourists at popular sites. This ensures a better experience for travelers while minimizing the impact on the environment.Promoting Lesser-Known Destinations: Encouraging tourists to explore offbeat places reduces the burden on overcrowded spots. Hidden gems like Spiti Valley, Tirthan Valley, and Barot offer unique experiences without the crowds.Eco-Friendly Practices: Promote responsible tourism by educating visitors about waste disposal, water conservation, and eco-friendly travel options. Encourage homestays and community-based tourism to support local livelihoods.Upgradation of Infrastructure: Invest in better roads, public transport, and waste management facilities. Sustainable infrastructure can handle increased footfall without compromising the environment.Preservation of Culture: Engage local communities in preserving their heritage. Cultural festivals, handicrafts, and traditional practices should be celebrated and protected.Himachal Pradesh’s struggle with overcrowding is a delicate balance between promoting tourism and safeguarding its natural and cultural treasures. By adopting sustainable practices, we can ensure that future generations continue to enjoy the magic of this paradise in the Himalayas1. Let us cherish and protect Himachal Pradesh, not just as tourists, but as responsible custodians of its beauty and legacy.', 'This is the first time employment figures for the unincorporated sector have been released since 2017, drawing focus to the economic impact of the pandemic as well as policy decisions made by Narendra Modi’s government, particularly the overnight demonetisation of the bulk of currency notes in 2016 and the Covid lockdown in 2020.Mr Modi rode to power in 2014 on a promise of creating 20 million new jobs per year as the keystone of his development agenda. But a growing unemployment crisis has instead become a major talking point in the country and has been cited as one of the main reasons for the ruling party’s below-par performance in the recent national election.The newly released survey by the Ministry of Statistics and Programme Implementation found that India had over 109.6 million people working in the unincorporated non-agricultural sector between October 2022 and September 2023. This sector relates to businesses that have not been set up as separate entities, and includes sole traders like street vendors as well as their unpaid family members and hired workers. The figure stood at 111.3 million in 2015-16, The Indian Express reported citing government data from 2017. This means the unorganised sector lost at least 1.6 million jobs over eight years. At the same time, Mr Modi claims to have created over 80 million jobs in just the last three to four years. “The country’s people are clever and the public is recognising this,” the prime minister during a visit to the financial capital Mumbai over the weekend where he also attended the grand wedding ceremony of the son of Asia’s richest man Mukesh Ambani. Mr Modi was speaking after the Reserve Bank of India released a report stating that the employment growth rate had nearly doubled in the last fiscal year, far exceeding estimates put out by private surveys that point to high joblessness rates in the South Asian country.According to the central bank’s report, released on 9 July, the overall employment rate rose from 3.2 per cent in 2022-23 to 6 per cent in 2023-24, meaning the country created more than 46.7 million jobs in that time. In total, the number of employed people increased from 596.7 million in March 2023 to 643.3 million in March 2024. Most of the new jobs, 18.5 million, came from agriculture and allied sectors while 4.8 million appeared in construction, The Times of India reported. In the previous fiscal year, in contrast, India had created about 11 million new jobs, the central bank said in the report that covered 27 industries from agriculture to manufacturing and services. It used data from the National Accounts and the Ministry of Labour to extrapolate productivity and employment levels but didn’t give a breakdown of the new jobs created by sector, Reuters reported.But economists cautioned that the central bank’s report did not tell the whole story. They noted that much of the growth in employment came from unpaid work and temporary farm labour which cannot be compared to formal employment with regular wages.\"What is clear is that there is a large increase coming from agriculture and from self-employment, which includes own account work or unpaid family work,\" said Amit Basole, head of the Centre for Sustainable Employment at the Azim Premji University.The central bank’s report showed agricultural work contributed 48 million of the 100 million jobs created between 2017-18 and 2022-23, Mr Basole noted. \"I wouldn’t call them jobs,\" he said. \"They are just people working in agriculture or in non-farm self-employment because of lack of adequate demand for workers from businesses.\"The Reserve Bank’s report came on the heels of a Citibank assessment earlier this month that even a GDP growth of 7 per cent would only create eight to nine million jobs in India, short of the 11-12 million needed.“Even 7 per cent GDP growth might not be able to fulfil the job requirement over the next decade,\" Citibank’s chief India economist Samiran Chakraborty wrote in the assessment.The Centre for Monitoring Indian Economy, a private think tank that tracks joblessness, estimated that India’s unemployment rate rose to eight per cent in 2023-24 from 7.5 per cent and 7.7 per cent in the preceding two financial years.The federal labour department countered the Citibank report claiming that its own estimate suggested that over 20 million employment opportunities were created on average every year between 2017-18 and 2021-22. The opposition lashed out at such claims by the Modi government and accused the prime minister of weaving a “web of lies”.“I want to remind you again what you said while announcing the National Recruitment Agency,” Congress party leader Mallikarjun Kharge said, addressing Mr Modi. “In August 2020, you said the NRA will prove to be a boon for crores (tens of millions) of youth. Through the common eligibility test, it will eliminate multiple examinations and save precious time as well as resources. It will also give a big boost to transparency. Why, despite providing a fund of Rs 1,517.57 crore to NRA, only Rs 58 crore has been spent so far in 4 years?”', 'The Kenyan high court last week suspended a proposed deal that would have given the Adani Group rights to run the Nairobi airport for 30 years – its first airport venture outside India. The court order is a setback to the group’s plans to expand its global footprint.Notably, this expansion has closely followed in the footsteps of Prime Minister Narendra Modi’s diplomatic engagements. Most Adani projects outside India, whether in the neighbourhood or further afield, were announced within months of Modi visiting the country or meeting its head of state,\\xa0Scroll’s\\xa0analysis shows.The Kenyan prime minister, for instance, visited New Delhi in December 2023. Three months later, in March, the Adani Group submitted a proposal to upgrade and expand the Nairobi airport. In June, the Kenyan authorities changed the national aviation policy and approved an airport investment plan.After whistleblower documents brought this to light, the Kenyan Human Rights Commission and the bar association filed\\xa0a legal challenge, arguing that “leasing a strategic and profitable national airport to a private entity is irrational”, more so because it was being done in secrecy, without any competitive bidding. The High Court\\xa0temporarily halted\\xa0the proposed deal on September 9.As questions were raised in the\\xa0Kenyan Parliament\\xa0and criticism mounted on social media,\\xa0a government advisor\\xa0said no contract had been awarded to Adani for the airport but the group has been granted concessions worth $1.3 billion to construct high-voltage power lines in Kenya.The furore in Kenya comes at a time when the interim government in Bangladesh has said it was\\xa0reviewing\\xa0a power purchase agreement with Adani, which is widely seen as being tilted in favour of the conglomerate. This deal, too, followed in the wake of Modi’s diplomacy.On his first visit to Dhaka as prime minister, in June 2015, Modi said India could be a major partner in helping\\xa0Bangladesh\\xa0fulfil its electricity needs. Two months later, Adani signed a Memorandum of Understanding with Bangladesh for the export of electricity from Jharkhand. The implementation agreement followed two years later, during Bangladesh Prime Minister Sheikh Hasina’s\\xa0New Delhi visit in April 2017.For years, the Opposition in Bangladesh alleged the agreement was signed under pressure from the Modi government. Now, with a regime change in Dhaka, the deal threatens to come undone.A spokesperson of the Adani Group, however, said in response to\\xa0Scroll’s queries: “We have no indication that the Bangladesh government is reviewing our PPA. In the spirit of partnership, we continue to supply power despite the substantial outstanding payments.”The Adani spokesperson did not comment on the developments in Kenya, or the allegations by the Opposition in India that diplomacy by the Modi government was serving Adani’s business interests abroad.Until 2014, when Modi became prime minister, the Adani Group’s projects outside India were limited to coal mining operations in Indonesia and Australia. Now, they span a wide range of infrastructure sectors across Asia and Africa.Bangladesh is not the only South Asian country where controversies have dogged Adani projects.In\\xa0Sri Lanka, an official of the electricity board, deposing before a parliamentary committee, said that President Gotabaya Rajapaksa had told him in November 2021 that Modi was “pressuring him” to hand over\\xa0a\\xa0wind energy project\\xa0to the Adani Group. This was days after\\xa0Rajapaksa met Modi\\xa0on the sidelines of the climate change conference in Glasgow. After the revelation caused an uproar in Sri Lanka, the official retracted his remarks and resigned from his position.Earlier, in February 2020, Prime Minister Mahinda Rajapaksa had met Modi in Delhi and discussed\\xa0“economically important matters”. Months later, media reports indicated that the Adani Group was a favourite to operate the East\\xa0Container Terminal\\xa0at the Colombo port as part of an agreement between India, Sri Lanka and Japan. After protests from unions and the Buddhist clergy, Sri Lanka reneged the agreement, but the Adani Group bagged the rights to operate\\xa0another terminal\\xa0at the port.This year, the Adani Group has been in talks with Nepalese authorities to take over international airports in Nepal. Two new airports in Pokhara and Bhairahawa, built using loans from China, have so far remained economically unviable since India has not opened up\\xa0high-altitude air routes\\xa0for jet planes. Nepal’s prime minister raised the issue with Modi in a meeting in\\xa0June 2023, following which officials of the Adani Group\\xa0visited Kathmandu\\xa0to hold discussions with Nepalese civil aviation authorities, according to the country’s finance minister.It isn’t just South Asia where Modi’s diplomacy has dovetailed with Adani’s expansion.In March 2017, Modi hosted\\xa0Malaysia’s Prime Minister Najib Tun Razak in New Delhi where the two discussed how to boost economic linkages between the two countries and the business prospects of Indian firms. A month later, the Adani Group signed an MoU with a Malaysian infrastructure conglomerate to develop a\\xa0mega container port project\\xa0on Carey Island.In June 2018, Modi travelled to\\xa0Singapore\\xa0where he met Prime Minister Lee Hsien Loong. Later that month, Singapore’s state-owned investment firm Temasek\\xa0invested Rs 1,000 crore\\xa0in Adani ports.Modi hosted the\\xa0Tanzania’s President Samiha Suluhu in Delhi in October 2023. Eight months later, in May 2024, the Adani Group bagged a 30-year concession agreement to operate a\\xa0container terminal\\xa0at the Dar es Salaam port. It also entered into a\\xa0joint venture with Abu Dhabi’s AD Ports group to acquire 95% stake in the company providing terminal services.More recently,\\xa0Vietnam’s Prime Minister Pham Minh Chinh came to Delhi in July-August 2024. The same day he met Modi, he also met Gautam Adani, announcing that the Adani Group was considering investing in two\\xa0airports\\xa0in Vietnam, close on the heels of its plans to build a\\xa0seaport\\xa0being approved.The Adani Group has built significant business ties with Israel after Modi became the first Indian prime minister to visit\\xa0Israel\\xa0in July 2017. He hosted Israel’s Prime Minister Benjamin Netanyahu in Delhi in January 2018. In December that year, the Adani Group, in a joint venture with Israeli firm Elbit Systems, inaugurated a facility in Telangana to manufacture\\xa0aerial military drones. In 2022, the Adani Group went on to acquire\\xa0Haifa port\\xa0in Israel.Billionaire Gautam Adani, the chairman of the Adani Group, is known for his proximity to the Indian prime minister. Both men are from the state of Gujarat. Since 2014 when Modi became prime minister, the Adani Group has aggressively\\xa0expanded and diversified\\xa0its business, becoming the largest private owner of airports, seaports, coal mines, power stations, and gas stations in India.This has invited accusations of crony capitalism, most notably from the Congress party, which sees the conglomerate’s global expansion in similar light.\\xa0Speaking in Parliament in February 2023, Congress leader Rahul Gandhi said, “This is not India’s foreign policy. This is Adani ji’s foreign policy.”Many observers view Adani’s global expansion through the geopolitical lens of India wanting to counter China’s growing influence in Asia and Africa, largely manifested through the infrastructure-focused Belt and Road Initiative. “Adani’s infrastructure empire fits with the Indian government’s economic agenda,”\\xa0wrote\\xa0Albert Vidal, an analyst at the International Institute for Strategic Studies, a think-tank headquartered in London.But others have questioned the wisdom of the government putting its weight behind just one private player. India’s diplomacy “has to avoid tying itself, and by extension the national interest, in less than opaque ways to the fortunes of a single private entity”, journalist Nirupama Subramanian\\xa0wrote\\xa0in 2022.These questions have become more acute after the Adani Group made global headlines last year for allegations of corporate fraud and money laundering levelled by American short-seller Hindenburg Research. Recently, Swiss authorities froze $311 million held by a Taiwanese resident suspected to have laundered money on behalf of the Adani Group – allegations that the group has denied.']\n"
     ]
    },
    {
     "data": {
      "text/plain": [
       "list"
      ]
     },
     "execution_count": 5,
     "metadata": {},
     "output_type": "execute_result"
    }
   ],
   "source": [
    "corpus = [\n",
    "    doc1,\n",
    "    doc2,\n",
    "    doc3\n",
    "    ]"
   ]
  },
  {
   "cell_type": "code",
   "execution_count": 6,
   "id": "3d79c8a3",
   "metadata": {},
   "outputs": [],
   "source": [
    "import spacy\n",
    "nlp = spacy.load(\"en_core_web_sm\")"
   ]
  },
  {
   "cell_type": "markdown",
   "id": "a731dec2",
   "metadata": {},
   "source": [
    "Following is a method that pre processces a document, converts it into lowercase, tokenizes, removes stop words, removes punctuations and, remove numbers"
   ]
  },
  {
   "cell_type": "code",
   "execution_count": 7,
   "id": "02145d33",
   "metadata": {},
   "outputs": [],
   "source": [
    "def preprocess(doc):\n",
    "    doc = doc.lower()\n",
    "    doc_spacy = nlp(doc)\n",
    "    tokens = [token.lemma_ for token in doc_spacy if not token.is_stop and not token.is_punct and not token.like_num]\n",
    "    return tokens    \n",
    "    "
   ]
  },
  {
   "cell_type": "markdown",
   "id": "e7d8f195",
   "metadata": {},
   "source": [
    "All the documents in the corpus are passed into the metohod 'preprocess' for basic preprocessing."
   ]
  },
  {
   "cell_type": "code",
   "execution_count": 8,
   "id": "f4e06738",
   "metadata": {
    "scrolled": true
   },
   "outputs": [
    {
     "name": "stdout",
     "output_type": "stream",
     "text": [
      "['himachal', 'pradesh', 'pristine', 'landscape', 'snow', 'cap', 'peak', 'serene', 'valley', 'long', 'favorite', 'destination', 'traveler', 'seek', 'respite', 'hustle', 'bustle', 'city', 'life', 'popularity', 'draw', 'tourist', 'himalayan', 'state', 'pose', 'significant', 'challenge', 'let', 'delve', 'impact', 'overcrowding', 'tourism', 'himachal', 'pradesh', 'explore', 'need', 'sustainable', 'measure', 'preserve', 'natural', 'beauty', 'cultural', 'heritage.crowde', 'mountainsmany', 'himachal', 'pradesh', 'city', 'town', 'shimla', 'manali', 'kullu', 'dharamsala', 'hail', 'good', 'hill', 'station', 'india', 'picturesque', 'locale', 'attract', 'tourist', 'year', 'round', 'lead', 'bustle', 'street', 'crowded', 'market', 'overburden', 'infrastructure', 'serene', 'charm', 'define', 'place', 'overshadow', 'sheer', 'number', 'visitors.challenge', 'face', 'overcrowded', 'tourist', 'spotsdegradation', 'environmental', 'influx', 'tourist', 'put', 'immense', 'pressure', 'fragile', 'ecosystem', 'himachal', 'pradesh', 'littering', 'deforestation', 'pollution', 'threaten', 'region', 'natural', 'beauty', 'popular', 'trekking', 'trail', 'camping', 'site', 'witness', 'heavy', 'footfall', 'lead', 'soil', 'erosion', 'habitat', 'disturbance.congestion', 'traffic', 'narrow', 'mountain', 'road', 'struggle', 'accommodate', 'increase', 'number', 'vehicle', 'traffic', 'jam', 'inconvenience', 'traveler', 'harm', 'environment', 'vehicular', 'emissions.strain', 'resource', 'water', 'scarcity', 'waste', 'management', 'energy', 'consumption', 'critical', 'issue', 'crowded', 'tourist', 'spot', 'local', 'community', 'bear', 'brunt', 'resource', 'depletion.erosion', 'culture', 'tourist', 'flood', 'area', 'local', 'culture', 'tradition', 'face', 'dilution', 'commercialization', 'homogenization', 'replace', 'authentic', 'experiences.sustainable', 'solutionsmanage', 'visitor', 'implement', 'entry', 'permit', 'quota', 'regulate', 'number', 'tourist', 'popular', 'site', 'ensure', 'well', 'experience', 'traveler', 'minimize', 'impact', 'environment.promote', 'lesser', 'know', 'destination', 'encourage', 'tourist', 'explore', 'offbeat', 'place', 'reduce', 'burden', 'overcrowded', 'spot', 'hide', 'gem', 'like', 'spiti', 'valley', 'tirthan', 'valley', 'barot', 'offer', 'unique', 'experience', 'crowds.eco', 'friendly', 'practice', 'promote', 'responsible', 'tourism', 'educate', 'visitor', 'waste', 'disposal', 'water', 'conservation', 'eco', 'friendly', 'travel', 'option', 'encourage', 'homestay', 'community', 'base', 'tourism', 'support', 'local', 'livelihoods.upgradation', 'infrastructure', 'invest', 'well', 'road', 'public', 'transport', 'waste', 'management', 'facility', 'sustainable', 'infrastructure', 'handle', 'increase', 'footfall', 'compromise', 'environment.preservation', 'culture', 'engage', 'local', 'community', 'preserve', 'heritage', 'cultural', 'festival', 'handicraft', 'traditional', 'practice', 'celebrate', 'protected.himachal', 'pradesh', 'struggle', 'overcrowding', 'delicate', 'balance', 'promote', 'tourism', 'safeguard', 'natural', 'cultural', 'treasure', 'adopt', 'sustainable', 'practice', 'ensure', 'future', 'generation', 'continue', 'enjoy', 'magic', 'paradise', 'himalayas1', 'let', 'cherish', 'protect', 'himachal', 'pradesh', 'tourist', 'responsible', 'custodian', 'beauty', 'legacy']\n",
      "\n",
      "\n",
      "['time', 'employment', 'figure', 'unincorporated', 'sector', 'release', 'draw', 'focus', 'economic', 'impact', 'pandemic', 'policy', 'decision', 'narendra', 'modi', 'government', 'particularly', 'overnight', 'demonetisation', 'bulk', 'currency', 'note', 'covid', 'lockdown', '2020.mr', 'modi', 'ride', 'power', 'promise', 'create', 'new', 'job', 'year', 'keystone', 'development', 'agenda', 'grow', 'unemployment', 'crisis', 'instead', 'major', 'talking', 'point', 'country', 'cite', 'main', 'reason', 'rule', 'party', 'par', 'performance', 'recent', 'national', 'election.the', 'newly', 'release', 'survey', 'ministry', 'statistic', 'programme', 'implementation', 'find', 'india', 'people', 'work', 'unincorporated', 'non', 'agricultural', 'sector', 'october', 'september', 'sector', 'relate', 'business', 'set', 'separate', 'entity', 'include', 'sole', 'trader', 'like', 'street', 'vendor', 'unpaid', 'family', 'member', 'hire', 'worker', 'figure', 'stand', 'indian', 'express', 'report', 'cite', 'government', 'datum', 'mean', 'unorganised', 'sector', 'lose', 'job', 'year', 'time', 'mr', 'modi', 'claim', 'create', 'job', 'year', 'country', 'people', 'clever', 'public', 'recognise', 'prime', 'minister', 'visit', 'financial', 'capital', 'mumbai', 'weekend', 'attend', 'grand', 'wedding', 'ceremony', 'son', 'asia', 'rich', 'man', 'mukesh', 'ambani', 'mr', 'modi', 'speak', 'reserve', 'bank', 'india', 'release', 'report', 'state', 'employment', 'growth', 'rate', 'nearly', 'double', 'fiscal', 'year', 'far', 'exceed', 'estimate', 'private', 'survey', 'point', 'high', 'joblessness', 'rate', 'south', 'asian', 'country.accorde', 'central', 'bank', 'report', 'release', 'july', 'overall', 'employment', 'rate', 'rise', 'cent', 'cent', 'mean', 'country', 'create', 'job', 'time', 'total', 'number', 'employ', 'people', 'increase', 'march', 'march', 'new', 'job', 'come', 'agriculture', 'ally', 'sector', 'appear', 'construction', 'time', 'india', 'report', 'previous', 'fiscal', 'year', 'contrast', 'india', 'create', 'new', 'job', 'central', 'bank', 'say', 'report', 'cover', 'industry', 'agriculture', 'manufacturing', 'service', 'datum', 'national', 'account', 'ministry', 'labour', 'extrapolate', 'productivity', 'employment', 'level', 'breakdown', 'new', 'job', 'create', 'sector', 'reuter', 'reported.but', 'economist', 'caution', 'central', 'bank', 'report', 'tell', 'story', 'note', 'growth', 'employment', 'come', 'unpaid', 'work', 'temporary', 'farm', 'labour', 'compare', 'formal', 'employment', 'regular', 'wage', '\"what', 'clear', 'large', 'increase', 'come', 'agriculture', 'self', 'employment', 'include', 'account', 'work', 'unpaid', 'family', 'work', 'say', 'amit', 'basole', 'head', 'centre', 'sustainable', 'employment', 'azim', 'premji', 'university.the', 'central', 'bank', 'report', 'show', 'agricultural', 'work', 'contribute', 'job', 'create', 'mr', 'basole', 'note', 'job', 'say', 'people', 'work', 'agriculture', 'non', 'farm', 'self', 'employment', 'lack', 'adequate', 'demand', 'worker', 'business', '\"the', 'reserve', 'bank', 'report', 'come', 'heel', 'citibank', 'assessment', 'early', 'month', 'gdp', 'growth', 'cent', 'create', 'job', 'india', 'short', 'need', '“even', 'cent', 'gdp', 'growth', 'able', 'fulfil', 'job', 'requirement', 'decade', 'citibank', 'chief', 'india', 'economist', 'samiran', 'chakraborty', 'write', 'assessment.the', 'centre', 'monitor', 'indian', 'economy', 'private', 'think', 'tank', 'track', 'joblessness', 'estimate', 'india', 'unemployment', 'rate', 'rise', 'cent', 'cent', 'cent', 'precede', 'financial', 'years.the', 'federal', 'labour', 'department', 'counter', 'citibank', 'report', 'claim', 'estimate', 'suggest', 'employment', 'opportunity', 'create', 'average', 'year', 'opposition', 'lash', 'claim', 'modi', 'government', 'accuse', 'prime', 'minister', 'weave', 'web', 'lies”', '“i', 'want', 'remind', 'say', 'announce', 'national', 'recruitment', 'agency', 'congress', 'party', 'leader', 'mallikarjun', 'kharge', 'say', 'address', 'mr', 'modi', 'august', 'say', 'nra', 'prove', 'boon', 'crore', 'ten', 'million', 'youth', 'common', 'eligibility', 'test', 'eliminate', 'multiple', 'examination', 'save', 'precious', 'time', 'resource', 'big', 'boost', 'transparency', 'despite', 'provide', 'fund', 'rs', 'crore', 'nra', 'rs', 'crore', 'spend', 'far', 'year']\n",
      "\n",
      "\n",
      "['kenyan', 'high', 'court', 'week', 'suspend', 'propose', 'deal', 'give', 'adani', 'group', 'right', 'run', 'nairobi', 'airport', 'year', 'airport', 'venture', 'outside', 'india', 'court', 'order', 'setback', 'group', 'plan', 'expand', 'global', 'footprint.notably', 'expansion', 'closely', 'follow', 'footstep', 'prime', 'minister', 'narendra', 'modi', 'diplomatic', 'engagement', 'adani', 'project', 'outside', 'india', 'neighbourhood', 'afield', 'announce', 'month', 'modi', 'visit', 'country', 'meet', 'head', 'state', '\\xa0', 'scroll', '\\xa0', 'analysis', 'shows.the', 'kenyan', 'prime', 'minister', 'instance', 'visit', 'new', 'delhi', 'december', 'month', 'later', 'march', 'adani', 'group', 'submit', 'proposal', 'upgrade', 'expand', 'nairobi', 'airport', 'june', 'kenyan', 'authority', 'change', 'national', 'aviation', 'policy', 'approve', 'airport', 'investment', 'plan.after', 'whistleblower', 'document', 'bring', 'light', 'kenyan', 'human', 'rights', 'commission', 'bar', 'association', 'file', '\\xa0', 'legal', 'challenge', 'argue', 'lease', 'strategic', 'profitable', 'national', 'airport', 'private', 'entity', 'irrational', 'secrecy', 'competitive', 'bidding', 'high', 'court', '\\xa0', 'temporarily', 'halt', '\\xa0', 'propose', 'deal', 'september', '9.as', 'question', 'raise', '\\xa0', 'kenyan', 'parliament', '\\xa0', 'criticism', 'mount', 'social', 'medium', '\\xa0', 'government', 'advisor', '\\xa0', 'say', 'contract', 'award', 'adani', 'airport', 'group', 'grant', 'concession', 'worth', '$', 'construct', 'high', 'voltage', 'power', 'line', 'kenya.the', 'furore', 'kenya', 'come', 'time', 'interim', 'government', 'bangladesh', 'say', '\\xa0', 'review', '\\xa0', 'power', 'purchase', 'agreement', 'adani', 'widely', 'see', 'tilt', 'favour', 'conglomerate', 'deal', 'follow', 'wake', 'modi', 'diplomacy.on', 'visit', 'dhaka', 'prime', 'minister', 'june', 'modi', 'say', 'india', 'major', 'partner', 'help', '\\xa0', 'bangladesh', '\\xa0', 'fulfil', 'electricity', 'need', 'month', 'later', 'adani', 'sign', 'memorandum', 'understanding', 'bangladesh', 'export', 'electricity', 'jharkhand', 'implementation', 'agreement', 'follow', 'year', 'later', 'bangladesh', 'prime', 'minister', 'sheikh', 'hasina', '\\xa0', 'new', 'delhi', 'visit', 'april', '2017.for', 'year', 'opposition', 'bangladesh', 'allege', 'agreement', 'sign', 'pressure', 'modi', 'government', 'regime', 'change', 'dhaka', 'deal', 'threaten', 'come', 'undone.a', 'spokesperson', 'adani', 'group', 'say', 'response', '\\xa0', 'scroll', 'query', 'indication', 'bangladesh', 'government', 'review', 'ppa', 'spirit', 'partnership', 'continue', 'supply', 'power', 'despite', 'substantial', 'outstanding', 'payment', '”the', 'adani', 'spokesperson', 'comment', 'development', 'kenya', 'allegation', 'opposition', 'india', 'diplomacy', 'modi', 'government', 'serve', 'adani', 'business', 'interest', 'abroad.until', 'modi', 'prime', 'minister', 'adani', 'group', 'project', 'outside', 'india', 'limit', 'coal', 'mining', 'operation', 'indonesia', 'australia', 'span', 'wide', 'range', 'infrastructure', 'sector', 'asia', 'africa.bangladesh', 'south', 'asian', 'country', 'controversy', 'dog', 'adani', 'projects.in', '\\xa0', 'sri', 'lanka', 'official', 'electricity', 'board', 'depose', 'parliamentary', 'committee', 'say', 'president', 'gotabaya', 'rajapaksa', 'tell', 'november', 'modi', 'pressure', 'hand', '\\xa0', '\\xa0', 'wind', 'energy', 'project', '\\xa0', 'adani', 'group', 'day', '\\xa0', 'rajapaksa', 'meet', 'modi', '\\xa0', 'sideline', 'climate', 'change', 'conference', 'glasgow', 'revelation', 'cause', 'uproar', 'sri', 'lanka', 'official', 'retract', 'remark', 'resign', 'position.earli', 'february', 'prime', 'minister', 'mahinda', 'rajapaksa', 'meet', 'modi', 'delhi', 'discuss', '\\xa0', 'economically', 'important', 'matter', 'month', 'later', 'medium', 'report', 'indicate', 'adani', 'group', 'favourite', 'operate', 'east', '\\xa0', 'container', 'terminal', '\\xa0', 'colombo', 'port', 'agreement', 'india', 'sri', 'lanka', 'japan', 'protest', 'union', 'buddhist', 'clergy', 'sri', 'lanka', 'renege', 'agreement', 'adani', 'group', 'bag', 'right', 'operate', '\\xa0', 'terminal', '\\xa0', 'port.this', 'year', 'adani', 'group', 'talk', 'nepalese', 'authority', 'international', 'airport', 'nepal', 'new', 'airport', 'pokhara', 'bhairahawa', 'build', 'loan', 'china', 'far', 'remain', 'economically', 'unviable', 'india', 'open', '\\xa0', 'high', 'altitude', 'air', 'route', '\\xa0', 'jet', 'plane', 'nepal', 'prime', 'minister', 'raise', 'issue', 'modi', 'meeting', '\\xa0', 'june', 'follow', 'official', 'adani', 'group', '\\xa0', 'visit', 'kathmandu', '\\xa0', 'hold', 'discussion', 'nepalese', 'civil', 'aviation', 'authority', 'accord', 'country', 'finance', 'minister.it', 'south', 'asia', 'modi', 'diplomacy', 'dovetail', 'adani', 'expansion.in', 'march', 'modi', 'host', '\\xa0', 'malaysia', 'prime', 'minister', 'najib', 'tun', 'razak', 'new', 'delhi', 'discuss', 'boost', 'economic', 'linkage', 'country', 'business', 'prospect', 'indian', 'firm', 'month', 'later', 'adani', 'group', 'sign', 'mou', 'malaysian', 'infrastructure', 'conglomerate', 'develop', '\\xa0', 'mega', 'container', 'port', 'project', '\\xa0', 'carey', 'island.in', 'june', 'modi', 'travel', '\\xa0', 'singapore', '\\xa0', 'meet', 'prime', 'minister', 'lee', 'hsien', 'loong', 'later', 'month', 'singapore', 'state', 'own', 'investment', 'firm', 'temasek', '\\xa0', 'invest', 'rs', 'crore', '\\xa0', 'adani', 'ports.modi', 'host', '\\xa0', 'tanzania', 'president', 'samiha', 'suluhu', 'delhi', 'october', 'month', 'later', 'adani', 'group', 'bag', 'year', 'concession', 'agreement', 'operate', '\\xa0', 'container', 'terminal', '\\xa0', 'dar', 'es', 'salaam', 'port', 'enter', '\\xa0', 'joint', 'venture', 'abu', 'dhabi', 'ad', 'port', 'group', 'acquire', 'stake', 'company', 'provide', 'terminal', 'services.more', 'recently', '\\xa0', 'vietnam', 'prime', 'minister', 'pham', 'minh', 'chinh', 'come', 'delhi', 'july', 'august', 'day', 'meet', 'modi', 'meet', 'gautam', 'adani', 'announce', 'adani', 'group', 'consider', 'invest', '\\xa0', 'airport', '\\xa0', 'vietnam', 'close', 'heel', 'plan', 'build', '\\xa0', 'seaport', '\\xa0', 'approved.the', 'adani', 'group', 'build', 'significant', 'business', 'tie', 'israel', 'modi', 'indian', 'prime', 'minister', 'visit', '\\xa0', 'israel', '\\xa0', 'july', 'host', 'israel', 'prime', 'minister', 'benjamin', 'netanyahu', 'delhi', 'january', 'december', 'year', 'adani', 'group', 'joint', 'venture', 'israeli', 'firm', 'elbit', 'system', 'inaugurate', 'facility', 'telangana', 'manufacture', '\\xa0', 'aerial', 'military', 'drone', 'adani', 'group', 'go', 'acquire', '\\xa0', 'haifa', 'port', '\\xa0', 'israel.billionaire', 'gautam', 'adani', 'chairman', 'adani', 'group', 'know', 'proximity', 'indian', 'prime', 'minister', 'man', 'state', 'gujarat', 'modi', 'prime', 'minister', 'adani', 'group', 'aggressively', '\\xa0', 'expand', 'diversify', '\\xa0', 'business', 'large', 'private', 'owner', 'airport', 'seaport', 'coal', 'mine', 'power', 'station', 'gas', 'station', 'india.this', 'invite', 'accusation', 'crony', 'capitalism', 'notably', 'congress', 'party', 'see', 'conglomerate', 'global', 'expansion', 'similar', 'light', '\\xa0', 'speak', 'parliament', 'february', 'congress', 'leader', 'rahul', 'gandhi', 'say', 'india', 'foreign', 'policy', 'adani', 'ji', 'foreign', 'policy', '”many', 'observer', 'view', 'adani', 'global', 'expansion', 'geopolitical', 'lens', 'india', 'want', 'counter', 'china', 'grow', 'influence', 'asia', 'africa', 'largely', 'manifest', 'infrastructure', 'focused', 'belt', 'road', 'initiative', 'adani', 'infrastructure', 'empire', 'fit', 'indian', 'government', 'economic', 'agenda', '\\xa0', 'write', '\\xa0', 'albert', 'vidal', 'analyst', 'international', 'institute', 'strategic', 'study', 'think', 'tank', 'headquarter', 'london.but', 'question', 'wisdom', 'government', 'put', 'weight', 'private', 'player', 'india', 'diplomacy', 'avoid', 'tie', 'extension', 'national', 'interest', 'opaque', 'way', 'fortune', 'single', 'private', 'entity', 'journalist', 'nirupama', 'subramanian', '\\xa0', 'write', '\\xa0', '2022.these', 'question', 'acute', 'adani', 'group', 'global', 'headline', 'year', 'allegation', 'corporate', 'fraud', 'money', 'laundering', 'level', 'american', 'short', 'seller', 'hindenburg', 'research', 'recently', 'swiss', 'authority', 'freeze', '$', 'hold', 'taiwanese', 'resident', 'suspect', 'launder', 'money', 'behalf', 'adani', 'group', 'allegation', 'group', 'deny']\n",
      "\n",
      "\n"
     ]
    }
   ],
   "source": [
    "preprocessed_corpus = [preprocess(doc) for doc in corpus]\n",
    "for doc in preprocessed_corpus:\n",
    "    print(doc)\n",
    "    print(\"\\n\")\n",
    "preprocessed_corpus= [' '.join(doc) for doc in preprocessed_corpus]"
   ]
  },
  {
   "cell_type": "code",
   "execution_count": 56,
   "id": "a09e3d6d",
   "metadata": {},
   "outputs": [],
   "source": [
    "import sklearn\n",
    "from sklearn.feature_extraction.text import CountVectorizer, TfidfVectorizer"
   ]
  },
  {
   "cell_type": "markdown",
   "id": "f925dbb1",
   "metadata": {},
   "source": [
    "Following is the tf matrix and tf-idf matrix for the corpus without preprocessing."
   ]
  },
  {
   "cell_type": "code",
   "execution_count": 57,
   "id": "941d6b25",
   "metadata": {},
   "outputs": [
    {
     "name": "stdout",
     "output_type": "stream",
     "text": [
      "TF Matrix without pre-processing: \n",
      " [[0 0 0 ... 0 0 0]\n",
      " [0 1 1 ... 4 3 1]\n",
      " [1 0 0 ... 3 0 0]]\n",
      "TF-IDF Matrix without pre-processing: \n",
      " [[0.         0.         0.         ... 0.         0.         0.        ]\n",
      " [0.         0.01587031 0.01587031 ... 0.04827912 0.04761093 0.01587031]\n",
      " [0.01048306 0.         0.         ... 0.0239179  0.         0.        ]]\n"
     ]
    }
   ],
   "source": [
    "vectorizer_raw = CountVectorizer()\n",
    "tfidf_vectorizer_raw = TfidfVectorizer()\n",
    "tf_matrix = vectorizer_raw.fit_transform(corpus)\n",
    "print(\"TF Matrix without pre-processing: \\n\", tf_matrix.toarray())\n",
    "tfidf_matrix = tfidf_vectorizer_raw.fit_transform(corpus)\n",
    "print(\"TF-IDF Matrix without pre-processing: \\n\", tfidf_matrix.toarray())"
   ]
  },
  {
   "cell_type": "markdown",
   "id": "6601ae10",
   "metadata": {},
   "source": [
    "Following is the tf matrix and tf-idf matrix for the preprocessed corpus"
   ]
  },
  {
   "cell_type": "code",
   "execution_count": 58,
   "id": "6bf58041-8c64-4232-b13b-079a6297f686",
   "metadata": {},
   "outputs": [
    {
     "name": "stdout",
     "output_type": "stream",
     "text": [
      "TF Matrix after pre-processing: \n",
      " [[0 0 0 ... 1 0 0]\n",
      " [0 1 0 ... 7 1 1]\n",
      " [1 0 1 ... 7 0 0]]\n",
      "TF-IDF Matrix after pre-processing: \n",
      " [[0.         0.         0.         ... 0.02444231 0.         0.        ]\n",
      " [0.         0.03015722 0.         ... 0.12467938 0.03015722 0.03015722]\n",
      " [0.01674944 0.         0.01674944 ... 0.06924743 0.         0.        ]]\n"
     ]
    }
   ],
   "source": [
    "vectorizer = CountVectorizer()\n",
    "tfidf_vectorizer = TfidfVectorizer()\n",
    "tf_matrix_preprocessed = vectorizer.fit_transform(preprocessed_corpus)\n",
    "print(\"TF Matrix after pre-processing: \\n\", tf_matrix_preprocessed.toarray())\n",
    "tfidf_matrix_preprocessed = tfidf_vectorizer.fit_transform(preprocessed_corpus)\n",
    "print(\"TF-IDF Matrix after pre-processing: \\n\", tfidf_matrix_preprocessed.toarray())"
   ]
  },
  {
   "cell_type": "code",
   "execution_count": 59,
   "id": "b6c6de2c",
   "metadata": {},
   "outputs": [],
   "source": [
    "import pandas as pd\n",
    "k = 20"
   ]
  },
  {
   "cell_type": "markdown",
   "id": "a598e6ee",
   "metadata": {},
   "source": [
    "Top k terms in the corpus with no processing."
   ]
  },
  {
   "cell_type": "code",
   "execution_count": 62,
   "id": "505d5cfb",
   "metadata": {},
   "outputs": [
    {
     "name": "stdout",
     "output_type": "stream",
     "text": [
      "Top  20  terms after preprocessing the data: \n",
      "\n",
      "the           1.585008\n",
      "in            0.749831\n",
      "of            0.701287\n",
      "and           0.694676\n",
      "to            0.563944\n",
      "adani         0.345941\n",
      "that          0.252591\n",
      "group         0.241110\n",
      "modi          0.215926\n",
      "tourists      0.210410\n",
      "million       0.201089\n",
      "on            0.181981\n",
      "pradesh       0.180351\n",
      "himachal      0.180351\n",
      "as            0.180137\n",
      "for           0.165222\n",
      "from          0.164199\n",
      "employment    0.158703\n",
      "jobs          0.158703\n",
      "india         0.151472\n",
      "dtype: float64\n"
     ]
    }
   ],
   "source": [
    "corpus_df = pd.DataFrame(tfidf_matrix.toarray(), columns=tfidf_vectorizer_raw.get_feature_names_out())\n",
    "corpus_dfsum = corpus_df.sum(axis = 0)\n",
    "sorted_terms = corpus_dfsum.sort_values(ascending=False).head(k)\n",
    "print(\"Top \", k, \" terms after preprocessing the data: \\n\")\n",
    "print(sorted_terms)"
   ]
  },
  {
   "cell_type": "markdown",
   "id": "65d29de7",
   "metadata": {},
   "source": [
    "Top k terms in processed corpus."
   ]
  },
  {
   "cell_type": "code",
   "execution_count": 63,
   "id": "fc67bd77-9527-4680-88f5-59f3a0247bdd",
   "metadata": {},
   "outputs": [
    {
     "name": "stdout",
     "output_type": "stream",
     "text": [
      "Top  20  terms after preprocessing the data: \n",
      "\n",
      "adani         0.552732\n",
      "group         0.385237\n",
      "tourist       0.372460\n",
      "modi          0.366903\n",
      "job           0.331729\n",
      "employment    0.301572\n",
      "india         0.257939\n",
      "himachal      0.248307\n",
      "pradesh       0.248307\n",
      "create        0.241258\n",
      "minister      0.236946\n",
      "prime         0.224208\n",
      "report        0.219156\n",
      "year          0.218369\n",
      "say           0.214042\n",
      "cent          0.211101\n",
      "work          0.180943\n",
      "bank          0.180943\n",
      "airport       0.167494\n",
      "the           0.165630\n",
      "dtype: float64\n"
     ]
    }
   ],
   "source": [
    "corpus_preprocessed_df = pd.DataFrame(tfidf_matrix_preprocessed.toarray(), columns=tfidf_vectorizer.get_feature_names_out())\n",
    "corpus_preprocessed_dfsum = corpus_preprocessed_df.sum(axis = 0)\n",
    "preporcessed_sorted_terms = corpus_preprocessed_dfsum.sort_values(ascending=False).head(k)\n",
    "print(\"Top \", k, \" terms after preprocessing the data: \\n\")\n",
    "print(preporcessed_sorted_terms)"
   ]
  },
  {
   "cell_type": "markdown",
   "id": "dcf01cc7",
   "metadata": {},
   "source": [
    "Following are queries to be matched to the documents."
   ]
  },
  {
   "cell_type": "code",
   "execution_count": 76,
   "id": "c7befcd0-7c27-4ee7-9323-6019b47c6fe8",
   "metadata": {},
   "outputs": [],
   "source": [
    "query1 = ['himachal is pretty']\n",
    "query2 = ['youth has no job']\n",
    "query3 = ['adani is getting contracts']"
   ]
  },
  {
   "cell_type": "markdown",
   "id": "9c220e6b",
   "metadata": {},
   "source": [
    "This methode finds the cosine semilarity between query and the corpus."
   ]
  },
  {
   "cell_type": "code",
   "execution_count": 74,
   "id": "73be5387-9ce4-4345-b5d8-949eb1373e4a",
   "metadata": {},
   "outputs": [],
   "source": [
    "from sklearn.metrics.pairwise import cosine_similarity\n",
    "def find_cosine_similarity(query):\n",
    "    query_tfidf = tfidf_vectorizer.transform(query)\n",
    "    cos_sim = cosine_similarity(query_tfidf, tfidf_matrix_preprocessed)\n",
    "    print(\"Cosine Similarity of the documents with the\",query,\" is \", cos_sim)                         \n"
   ]
  },
  {
   "cell_type": "markdown",
   "id": "94211bc4",
   "metadata": {},
   "source": [
    "\n",
    "We find the cosine semilarity of each query with all the documents in the corpus."
   ]
  },
  {
   "cell_type": "code",
   "execution_count": 75,
   "id": "9d2b3caa-d958-498f-9577-3d8f3b0c186e",
   "metadata": {},
   "outputs": [
    {
     "name": "stdout",
     "output_type": "stream",
     "text": [
      "Cosine Similarity of the documents with the ['himachal is pretty']  is  [[0.24830658 0.         0.        ]]\n",
      "Cosine Similarity of the documents with the ['youth has no job']  is  [[0.         0.25589249 0.        ]]\n",
      "Cosine Similarity of the documents with the ['adani getting contracts']  is  [[0.         0.         0.55273157]]\n"
     ]
    }
   ],
   "source": [
    "find_cosine_similarity(query1)\n",
    "find_cosine_similarity(query2)\n",
    "find_cosine_similarity(query3)"
   ]
  }
 ],
 "metadata": {
  "kernelspec": {
   "display_name": "Python 3 (ipykernel)",
   "language": "python",
   "name": "python3"
  },
  "language_info": {
   "codemirror_mode": {
    "name": "ipython",
    "version": 3
   },
   "file_extension": ".py",
   "mimetype": "text/x-python",
   "name": "python",
   "nbconvert_exporter": "python",
   "pygments_lexer": "ipython3",
   "version": "3.12.0"
  }
 },
 "nbformat": 4,
 "nbformat_minor": 5
}
